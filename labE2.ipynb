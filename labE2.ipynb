{
  "cells": [
    {
      "cell_type": "code",
      "execution_count": null,
      "metadata": {
        "id": "3haFwPqIrN_k"
      },
      "outputs": [],
      "source": [
        "\n"
      ]
    },
    {
      "cell_type": "markdown",
      "metadata": {},
      "source": [
        "#shapes dataset"
      ]
    },
    {
      "cell_type": "code",
      "execution_count": 1,
      "metadata": {
        "colab": {
          "base_uri": "https://localhost:8080/"
        },
        "id": "5ygbSy6VrTVz",
        "outputId": "a0860608-9b5b-4587-9f24-c4e835c5eeaf"
      },
      "outputs": [
        {
          "name": "stdout",
          "output_type": "stream",
          "text": [
            "--2024-01-28 17:23:00--  http://www.kasprowski.pl/datasets/shapes.zip\n",
            "Resolving www.kasprowski.pl (www.kasprowski.pl)... 94.152.164.213\n",
            "Connecting to www.kasprowski.pl (www.kasprowski.pl)|94.152.164.213|:80... connected.\n",
            "HTTP request sent, awaiting response... 200 OK\n",
            "Length: 2827519 (2.7M) [application/zip]\n",
            "Saving to: ‘shapes.zip’\n",
            "\n",
            "shapes.zip          100%[===================>]   2.70M  8.21MB/s    in 0.3s    \n",
            "\n",
            "2024-01-28 17:23:00 (8.21 MB/s) - ‘shapes.zip’ saved [2827519/2827519]\n",
            "\n"
          ]
        }
      ],
      "source": [
        "!wget http://www.kasprowski.pl/datasets/shapes.zip"
      ]
    },
    {
      "cell_type": "code",
      "execution_count": 2,
      "metadata": {
        "colab": {
          "base_uri": "https://localhost:8080/"
        },
        "id": "95GuiLFQraiq",
        "outputId": "1b4412bc-3c23-4735-ef42-f74f0d6c02e6"
      },
      "outputs": [
        {
          "name": "stdout",
          "output_type": "stream",
          "text": [
            "Archive:  shapes.zip\n",
            "   creating: shapes/circles/\n",
            "  inflating: shapes/circles/image100.jpg  \n",
            "  inflating: shapes/circles/image101.jpg  \n",
            "  inflating: shapes/circles/image102.jpg  \n",
            "  inflating: shapes/circles/image103.jpg  \n",
            "  inflating: shapes/circles/image104.jpg  \n",
            "  inflating: shapes/circles/image105.jpg  \n",
            "  inflating: shapes/circles/image106.jpg  \n",
            "  inflating: shapes/circles/image107.jpg  \n",
            "  inflating: shapes/circles/image108.jpg  \n",
            "  inflating: shapes/circles/image109.jpg  \n",
            "  inflating: shapes/circles/image110.jpg  \n",
            "  inflating: shapes/circles/image111.jpg  \n",
            "  inflating: shapes/circles/image112.jpg  \n",
            "  inflating: shapes/circles/image113.jpg  \n",
            "  inflating: shapes/circles/image114.jpg  \n",
            "  inflating: shapes/circles/image115.jpg  \n",
            "  inflating: shapes/circles/image116.jpg  \n",
            "  inflating: shapes/circles/image117.jpg  \n",
            "  inflating: shapes/circles/image118.jpg  \n",
            "  inflating: shapes/circles/image119.jpg  \n",
            "  inflating: shapes/circles/image120.jpg  \n",
            "  inflating: shapes/circles/image121.jpg  \n",
            "  inflating: shapes/circles/image122.jpg  \n",
            "  inflating: shapes/circles/image123.jpg  \n",
            "  inflating: shapes/circles/image124.jpg  \n",
            "  inflating: shapes/circles/image125.jpg  \n",
            "  inflating: shapes/circles/image126.jpg  \n",
            "  inflating: shapes/circles/image127.jpg  \n",
            "  inflating: shapes/circles/image128.jpg  \n",
            "  inflating: shapes/circles/image129.jpg  \n",
            "  inflating: shapes/circles/image130.jpg  \n",
            "  inflating: shapes/circles/image131.jpg  \n",
            "  inflating: shapes/circles/image132.jpg  \n",
            "  inflating: shapes/circles/image133.jpg  \n",
            "  inflating: shapes/circles/image134.jpg  \n",
            "  inflating: shapes/circles/image135.jpg  \n",
            "  inflating: shapes/circles/image136.jpg  \n",
            "  inflating: shapes/circles/image137.jpg  \n",
            "  inflating: shapes/circles/image138.jpg  \n",
            "  inflating: shapes/circles/image139.jpg  \n",
            "  inflating: shapes/circles/image140.jpg  \n",
            "  inflating: shapes/circles/image141.jpg  \n",
            "  inflating: shapes/circles/image142.jpg  \n",
            "  inflating: shapes/circles/image143.jpg  \n",
            "  inflating: shapes/circles/image144.jpg  \n",
            "  inflating: shapes/circles/image145.jpg  \n",
            "  inflating: shapes/circles/image146.jpg  \n",
            "  inflating: shapes/circles/image147.jpg  \n",
            "  inflating: shapes/circles/image148.jpg  \n",
            "  inflating: shapes/circles/image149.jpg  \n",
            "  inflating: shapes/circles/image150.jpg  \n",
            "  inflating: shapes/circles/image151.jpg  \n",
            "  inflating: shapes/circles/image152.jpg  \n",
            "  inflating: shapes/circles/image153.jpg  \n",
            "  inflating: shapes/circles/image154.jpg  \n",
            "  inflating: shapes/circles/image155.jpg  \n",
            "  inflating: shapes/circles/image156.jpg  \n",
            "  inflating: shapes/circles/image157.jpg  \n",
            "  inflating: shapes/circles/image158.jpg  \n",
            "  inflating: shapes/circles/image159.jpg  \n",
            "  inflating: shapes/circles/image160.jpg  \n",
            "  inflating: shapes/circles/image161.jpg  \n",
            "  inflating: shapes/circles/image162.jpg  \n",
            "  inflating: shapes/circles/image163.jpg  \n",
            "  inflating: shapes/circles/image164.jpg  \n",
            "  inflating: shapes/circles/image165.jpg  \n",
            "  inflating: shapes/circles/image166.jpg  \n",
            "  inflating: shapes/circles/image167.jpg  \n",
            "  inflating: shapes/circles/image168.jpg  \n",
            "  inflating: shapes/circles/image169.jpg  \n",
            "  inflating: shapes/circles/image170.jpg  \n",
            "  inflating: shapes/circles/image171.jpg  \n",
            "  inflating: shapes/circles/image172.jpg  \n",
            "  inflating: shapes/circles/image173.jpg  \n",
            "  inflating: shapes/circles/image174.jpg  \n",
            "  inflating: shapes/circles/image175.jpg  \n",
            "  inflating: shapes/circles/image176.jpg  \n",
            "  inflating: shapes/circles/image177.jpg  \n",
            "  inflating: shapes/circles/image178.jpg  \n",
            "  inflating: shapes/circles/image179.jpg  \n",
            "  inflating: shapes/circles/image180.jpg  \n",
            "  inflating: shapes/circles/image181.jpg  \n",
            "  inflating: shapes/circles/image182.jpg  \n",
            "  inflating: shapes/circles/image183.jpg  \n",
            "  inflating: shapes/circles/image184.jpg  \n",
            "  inflating: shapes/circles/image185.jpg  \n",
            "  inflating: shapes/circles/image186.jpg  \n",
            "  inflating: shapes/circles/image187.jpg  \n",
            "  inflating: shapes/circles/image188.jpg  \n",
            "  inflating: shapes/circles/image189.jpg  \n",
            "  inflating: shapes/circles/image190.jpg  \n",
            "  inflating: shapes/circles/image191.jpg  \n",
            "  inflating: shapes/circles/image192.jpg  \n",
            "  inflating: shapes/circles/image193.jpg  \n",
            "  inflating: shapes/circles/image194.jpg  \n",
            "  inflating: shapes/circles/image195.jpg  \n",
            "  inflating: shapes/circles/image196.jpg  \n",
            "  inflating: shapes/circles/image197.jpg  \n",
            "  inflating: shapes/circles/image198.jpg  \n",
            "  inflating: shapes/circles/image199.jpg  \n",
            "   creating: shapes/squares/\n",
            "  inflating: shapes/squares/image0.jpg  \n",
            "  inflating: shapes/squares/image1.jpg  \n",
            "  inflating: shapes/squares/image10.jpg  \n",
            "  inflating: shapes/squares/image11.jpg  \n",
            "  inflating: shapes/squares/image12.jpg  \n",
            "  inflating: shapes/squares/image13.jpg  \n",
            "  inflating: shapes/squares/image14.jpg  \n",
            "  inflating: shapes/squares/image15.jpg  \n",
            "  inflating: shapes/squares/image16.jpg  \n",
            "  inflating: shapes/squares/image17.jpg  \n",
            "  inflating: shapes/squares/image18.jpg  \n",
            "  inflating: shapes/squares/image19.jpg  \n",
            "  inflating: shapes/squares/image2.jpg  \n",
            "  inflating: shapes/squares/image20.jpg  \n",
            "  inflating: shapes/squares/image21.jpg  \n",
            "  inflating: shapes/squares/image22.jpg  \n",
            "  inflating: shapes/squares/image23.jpg  \n",
            "  inflating: shapes/squares/image24.jpg  \n",
            "  inflating: shapes/squares/image25.jpg  \n",
            "  inflating: shapes/squares/image26.jpg  \n",
            "  inflating: shapes/squares/image27.jpg  \n",
            "  inflating: shapes/squares/image28.jpg  \n",
            "  inflating: shapes/squares/image29.jpg  \n",
            "  inflating: shapes/squares/image3.jpg  \n",
            "  inflating: shapes/squares/image30.jpg  \n",
            "  inflating: shapes/squares/image31.jpg  \n",
            "  inflating: shapes/squares/image32.jpg  \n",
            "  inflating: shapes/squares/image33.jpg  \n",
            "  inflating: shapes/squares/image34.jpg  \n",
            "  inflating: shapes/squares/image35.jpg  \n",
            "  inflating: shapes/squares/image36.jpg  \n",
            "  inflating: shapes/squares/image37.jpg  \n",
            "  inflating: shapes/squares/image38.jpg  \n",
            "  inflating: shapes/squares/image39.jpg  \n",
            "  inflating: shapes/squares/image4.jpg  \n",
            "  inflating: shapes/squares/image40.jpg  \n",
            "  inflating: shapes/squares/image41.jpg  \n",
            "  inflating: shapes/squares/image42.jpg  \n",
            "  inflating: shapes/squares/image43.jpg  \n",
            "  inflating: shapes/squares/image44.jpg  \n",
            "  inflating: shapes/squares/image45.jpg  \n",
            "  inflating: shapes/squares/image46.jpg  \n",
            "  inflating: shapes/squares/image47.jpg  \n",
            "  inflating: shapes/squares/image48.jpg  \n",
            "  inflating: shapes/squares/image49.jpg  \n",
            "  inflating: shapes/squares/image5.jpg  \n",
            "  inflating: shapes/squares/image50.jpg  \n",
            "  inflating: shapes/squares/image51.jpg  \n",
            "  inflating: shapes/squares/image52.jpg  \n",
            "  inflating: shapes/squares/image53.jpg  \n",
            "  inflating: shapes/squares/image54.jpg  \n",
            "  inflating: shapes/squares/image55.jpg  \n",
            "  inflating: shapes/squares/image56.jpg  \n",
            "  inflating: shapes/squares/image57.jpg  \n",
            "  inflating: shapes/squares/image58.jpg  \n",
            "  inflating: shapes/squares/image59.jpg  \n",
            "  inflating: shapes/squares/image6.jpg  \n",
            "  inflating: shapes/squares/image60.jpg  \n",
            "  inflating: shapes/squares/image61.jpg  \n",
            "  inflating: shapes/squares/image62.jpg  \n",
            "  inflating: shapes/squares/image63.jpg  \n",
            "  inflating: shapes/squares/image64.jpg  \n",
            "  inflating: shapes/squares/image65.jpg  \n",
            "  inflating: shapes/squares/image66.jpg  \n",
            "  inflating: shapes/squares/image67.jpg  \n",
            "  inflating: shapes/squares/image68.jpg  \n",
            "  inflating: shapes/squares/image69.jpg  \n",
            "  inflating: shapes/squares/image7.jpg  \n",
            "  inflating: shapes/squares/image70.jpg  \n",
            "  inflating: shapes/squares/image71.jpg  \n",
            "  inflating: shapes/squares/image72.jpg  \n",
            "  inflating: shapes/squares/image73.jpg  \n",
            "  inflating: shapes/squares/image74.jpg  \n",
            "  inflating: shapes/squares/image75.jpg  \n",
            "  inflating: shapes/squares/image76.jpg  \n",
            "  inflating: shapes/squares/image77.jpg  \n",
            "  inflating: shapes/squares/image78.jpg  \n",
            "  inflating: shapes/squares/image79.jpg  \n",
            "  inflating: shapes/squares/image8.jpg  \n",
            "  inflating: shapes/squares/image80.jpg  \n",
            "  inflating: shapes/squares/image81.jpg  \n",
            "  inflating: shapes/squares/image82.jpg  \n",
            "  inflating: shapes/squares/image83.jpg  \n",
            "  inflating: shapes/squares/image84.jpg  \n",
            "  inflating: shapes/squares/image85.jpg  \n",
            "  inflating: shapes/squares/image86.jpg  \n",
            "  inflating: shapes/squares/image87.jpg  \n",
            "  inflating: shapes/squares/image88.jpg  \n",
            "  inflating: shapes/squares/image89.jpg  \n",
            "  inflating: shapes/squares/image9.jpg  \n",
            "  inflating: shapes/squares/image90.jpg  \n",
            "  inflating: shapes/squares/image91.jpg  \n",
            "  inflating: shapes/squares/image92.jpg  \n",
            "  inflating: shapes/squares/image93.jpg  \n",
            "  inflating: shapes/squares/image94.jpg  \n",
            "  inflating: shapes/squares/image95.jpg  \n",
            "  inflating: shapes/squares/image96.jpg  \n",
            "  inflating: shapes/squares/image97.jpg  \n",
            "  inflating: shapes/squares/image98.jpg  \n",
            "  inflating: shapes/squares/image99.jpg  \n"
          ]
        }
      ],
      "source": [
        "!unzip 'shapes.zip'"
      ]
    },
    {
      "cell_type": "code",
      "execution_count": 3,
      "metadata": {
        "colab": {
          "base_uri": "https://localhost:8080/"
        },
        "id": "IsUt8jtQrcji",
        "outputId": "ff9d09fa-11bb-410c-c825-d7b0f965e0ed"
      },
      "outputs": [
        {
          "name": "stdout",
          "output_type": "stream",
          "text": [
            "Requirement already satisfied: tensorflow in /usr/local/lib/python3.10/dist-packages (2.15.0)\n",
            "Requirement already satisfied: absl-py>=1.0.0 in /usr/local/lib/python3.10/dist-packages (from tensorflow) (1.4.0)\n",
            "Requirement already satisfied: astunparse>=1.6.0 in /usr/local/lib/python3.10/dist-packages (from tensorflow) (1.6.3)\n",
            "Requirement already satisfied: flatbuffers>=23.5.26 in /usr/local/lib/python3.10/dist-packages (from tensorflow) (23.5.26)\n",
            "Requirement already satisfied: gast!=0.5.0,!=0.5.1,!=0.5.2,>=0.2.1 in /usr/local/lib/python3.10/dist-packages (from tensorflow) (0.5.4)\n",
            "Requirement already satisfied: google-pasta>=0.1.1 in /usr/local/lib/python3.10/dist-packages (from tensorflow) (0.2.0)\n",
            "Requirement already satisfied: h5py>=2.9.0 in /usr/local/lib/python3.10/dist-packages (from tensorflow) (3.9.0)\n",
            "Requirement already satisfied: libclang>=13.0.0 in /usr/local/lib/python3.10/dist-packages (from tensorflow) (16.0.6)\n",
            "Requirement already satisfied: ml-dtypes~=0.2.0 in /usr/local/lib/python3.10/dist-packages (from tensorflow) (0.2.0)\n",
            "Requirement already satisfied: numpy<2.0.0,>=1.23.5 in /usr/local/lib/python3.10/dist-packages (from tensorflow) (1.23.5)\n",
            "Requirement already satisfied: opt-einsum>=2.3.2 in /usr/local/lib/python3.10/dist-packages (from tensorflow) (3.3.0)\n",
            "Requirement already satisfied: packaging in /usr/local/lib/python3.10/dist-packages (from tensorflow) (23.2)\n",
            "Requirement already satisfied: protobuf!=4.21.0,!=4.21.1,!=4.21.2,!=4.21.3,!=4.21.4,!=4.21.5,<5.0.0dev,>=3.20.3 in /usr/local/lib/python3.10/dist-packages (from tensorflow) (3.20.3)\n",
            "Requirement already satisfied: setuptools in /usr/local/lib/python3.10/dist-packages (from tensorflow) (67.7.2)\n",
            "Requirement already satisfied: six>=1.12.0 in /usr/local/lib/python3.10/dist-packages (from tensorflow) (1.16.0)\n",
            "Requirement already satisfied: termcolor>=1.1.0 in /usr/local/lib/python3.10/dist-packages (from tensorflow) (2.4.0)\n",
            "Requirement already satisfied: typing-extensions>=3.6.6 in /usr/local/lib/python3.10/dist-packages (from tensorflow) (4.5.0)\n",
            "Requirement already satisfied: wrapt<1.15,>=1.11.0 in /usr/local/lib/python3.10/dist-packages (from tensorflow) (1.14.1)\n",
            "Requirement already satisfied: tensorflow-io-gcs-filesystem>=0.23.1 in /usr/local/lib/python3.10/dist-packages (from tensorflow) (0.35.0)\n",
            "Requirement already satisfied: grpcio<2.0,>=1.24.3 in /usr/local/lib/python3.10/dist-packages (from tensorflow) (1.60.0)\n",
            "Requirement already satisfied: tensorboard<2.16,>=2.15 in /usr/local/lib/python3.10/dist-packages (from tensorflow) (2.15.1)\n",
            "Requirement already satisfied: tensorflow-estimator<2.16,>=2.15.0 in /usr/local/lib/python3.10/dist-packages (from tensorflow) (2.15.0)\n",
            "Requirement already satisfied: keras<2.16,>=2.15.0 in /usr/local/lib/python3.10/dist-packages (from tensorflow) (2.15.0)\n",
            "Requirement already satisfied: wheel<1.0,>=0.23.0 in /usr/local/lib/python3.10/dist-packages (from astunparse>=1.6.0->tensorflow) (0.42.0)\n",
            "Requirement already satisfied: google-auth<3,>=1.6.3 in /usr/local/lib/python3.10/dist-packages (from tensorboard<2.16,>=2.15->tensorflow) (2.17.3)\n",
            "Requirement already satisfied: google-auth-oauthlib<2,>=0.5 in /usr/local/lib/python3.10/dist-packages (from tensorboard<2.16,>=2.15->tensorflow) (1.2.0)\n",
            "Requirement already satisfied: markdown>=2.6.8 in /usr/local/lib/python3.10/dist-packages (from tensorboard<2.16,>=2.15->tensorflow) (3.5.2)\n",
            "Requirement already satisfied: requests<3,>=2.21.0 in /usr/local/lib/python3.10/dist-packages (from tensorboard<2.16,>=2.15->tensorflow) (2.31.0)\n",
            "Requirement already satisfied: tensorboard-data-server<0.8.0,>=0.7.0 in /usr/local/lib/python3.10/dist-packages (from tensorboard<2.16,>=2.15->tensorflow) (0.7.2)\n",
            "Requirement already satisfied: werkzeug>=1.0.1 in /usr/local/lib/python3.10/dist-packages (from tensorboard<2.16,>=2.15->tensorflow) (3.0.1)\n",
            "Requirement already satisfied: cachetools<6.0,>=2.0.0 in /usr/local/lib/python3.10/dist-packages (from google-auth<3,>=1.6.3->tensorboard<2.16,>=2.15->tensorflow) (5.3.2)\n",
            "Requirement already satisfied: pyasn1-modules>=0.2.1 in /usr/local/lib/python3.10/dist-packages (from google-auth<3,>=1.6.3->tensorboard<2.16,>=2.15->tensorflow) (0.3.0)\n",
            "Requirement already satisfied: rsa<5,>=3.1.4 in /usr/local/lib/python3.10/dist-packages (from google-auth<3,>=1.6.3->tensorboard<2.16,>=2.15->tensorflow) (4.9)\n",
            "Requirement already satisfied: requests-oauthlib>=0.7.0 in /usr/local/lib/python3.10/dist-packages (from google-auth-oauthlib<2,>=0.5->tensorboard<2.16,>=2.15->tensorflow) (1.3.1)\n",
            "Requirement already satisfied: charset-normalizer<4,>=2 in /usr/local/lib/python3.10/dist-packages (from requests<3,>=2.21.0->tensorboard<2.16,>=2.15->tensorflow) (3.3.2)\n",
            "Requirement already satisfied: idna<4,>=2.5 in /usr/local/lib/python3.10/dist-packages (from requests<3,>=2.21.0->tensorboard<2.16,>=2.15->tensorflow) (3.6)\n",
            "Requirement already satisfied: urllib3<3,>=1.21.1 in /usr/local/lib/python3.10/dist-packages (from requests<3,>=2.21.0->tensorboard<2.16,>=2.15->tensorflow) (2.0.7)\n",
            "Requirement already satisfied: certifi>=2017.4.17 in /usr/local/lib/python3.10/dist-packages (from requests<3,>=2.21.0->tensorboard<2.16,>=2.15->tensorflow) (2023.11.17)\n",
            "Requirement already satisfied: MarkupSafe>=2.1.1 in /usr/local/lib/python3.10/dist-packages (from werkzeug>=1.0.1->tensorboard<2.16,>=2.15->tensorflow) (2.1.4)\n",
            "Requirement already satisfied: pyasn1<0.6.0,>=0.4.6 in /usr/local/lib/python3.10/dist-packages (from pyasn1-modules>=0.2.1->google-auth<3,>=1.6.3->tensorboard<2.16,>=2.15->tensorflow) (0.5.1)\n",
            "Requirement already satisfied: oauthlib>=3.0.0 in /usr/local/lib/python3.10/dist-packages (from requests-oauthlib>=0.7.0->google-auth-oauthlib<2,>=0.5->tensorboard<2.16,>=2.15->tensorflow) (3.2.2)\n",
            "Found 200 images belonging to 2 classes.\n",
            "Training set: (25, 64, 64, 3) (25, 2)\n",
            "Test set: (7, 64, 64, 3) (7, 2)\n"
          ]
        }
      ],
      "source": [
        "!pip install tensorflow\n",
        "\n",
        "from tensorflow.keras.preprocessing.image import ImageDataGenerator\n",
        "from sklearn.model_selection import train_test_split\n",
        "from tensorflow.keras.utils import to_categorical\n",
        "import numpy as np\n",
        "import os\n",
        "\n",
        "# Define the directory where the data is located\n",
        "dataset_dir = '/content/shapes'\n",
        "\n",
        "# Initialize the image data generator with rescaling\n",
        "data_gen = ImageDataGenerator(rescale=1./255)\n",
        "\n",
        "# Prepare the generator for the dataset\n",
        "data_generator = data_gen.flow_from_directory(\n",
        "    dataset_dir,\n",
        "    target_size=(64, 64),\n",
        "    batch_size=32,\n",
        "    class_mode='binary',\n",
        "    seed=42)\n",
        "\n",
        "# Load all the data in memory (since it's a small dataset)\n",
        "images, labels = next(data_generator)\n",
        "\n",
        "# Convert labels to categorical (one-hot encoding)\n",
        "labels = to_categorical(labels, num_classes=2)\n",
        "\n",
        "# Split the data into training and test sets with stratification\n",
        "X_train, X_test, y_train, y_test = train_test_split(images, labels, test_size=0.2, random_state=42, stratify=labels)\n",
        "\n",
        "print('Training set:', X_train.shape, y_train.shape)\n",
        "print('Test set:', X_test.shape, y_test.shape)\n"
      ]
    },
    {
      "cell_type": "code",
      "execution_count": 4,
      "metadata": {
        "id": "GuO-9H-Nrd8z"
      },
      "outputs": [],
      "source": [
        "from tensorflow.keras.models import Sequential\n",
        "from tensorflow.keras.layers import Conv2D, MaxPooling2D, Flatten, Dense\n",
        "\n",
        "# CNN Model\n",
        "cnn_model = Sequential([\n",
        "    Conv2D(32, (3,3), activation='relu', input_shape=(64, 64, 3)),\n",
        "    MaxPooling2D(2, 2),\n",
        "    Conv2D(64, (3,3), activation='relu'),\n",
        "    MaxPooling2D(2,2),\n",
        "    Flatten(),\n",
        "    Dense(128, activation='relu'),\n",
        "    Dense(2, activation='softmax')  # 2 classes\n",
        "])\n",
        "\n",
        "cnn_model.compile(optimizer='adam', loss='categorical_crossentropy', metrics=['accuracy'])\n"
      ]
    },
    {
      "cell_type": "code",
      "execution_count": 5,
      "metadata": {
        "colab": {
          "base_uri": "https://localhost:8080/"
        },
        "id": "RGBEFO_2rmYD",
        "outputId": "8c209efd-c1cb-4d63-a79e-8345bb5be3e9"
      },
      "outputs": [
        {
          "name": "stdout",
          "output_type": "stream",
          "text": [
            "Epoch 1/10\n",
            "1/1 [==============================] - 2s 2s/step - loss: 0.7389 - accuracy: 0.4800 - val_loss: 0.7303 - val_accuracy: 0.5714\n",
            "Epoch 2/10\n",
            "1/1 [==============================] - 0s 352ms/step - loss: 0.6992 - accuracy: 0.5600 - val_loss: 0.5996 - val_accuracy: 0.5714\n",
            "Epoch 3/10\n",
            "1/1 [==============================] - 0s 391ms/step - loss: 0.4810 - accuracy: 0.5600 - val_loss: 0.5256 - val_accuracy: 0.5714\n",
            "Epoch 4/10\n",
            "1/1 [==============================] - 0s 244ms/step - loss: 0.3621 - accuracy: 0.8800 - val_loss: 0.5321 - val_accuracy: 0.7143\n",
            "Epoch 5/10\n",
            "1/1 [==============================] - 0s 171ms/step - loss: 0.3238 - accuracy: 1.0000 - val_loss: 0.5244 - val_accuracy: 0.7143\n",
            "Epoch 6/10\n",
            "1/1 [==============================] - 0s 213ms/step - loss: 0.2684 - accuracy: 1.0000 - val_loss: 0.4784 - val_accuracy: 0.7143\n",
            "Epoch 7/10\n",
            "1/1 [==============================] - 0s 165ms/step - loss: 0.1898 - accuracy: 1.0000 - val_loss: 0.4499 - val_accuracy: 0.7143\n",
            "Epoch 8/10\n",
            "1/1 [==============================] - 0s 175ms/step - loss: 0.1278 - accuracy: 1.0000 - val_loss: 0.4634 - val_accuracy: 0.7143\n",
            "Epoch 9/10\n",
            "1/1 [==============================] - 0s 173ms/step - loss: 0.0892 - accuracy: 1.0000 - val_loss: 0.4967 - val_accuracy: 0.7143\n",
            "Epoch 10/10\n",
            "1/1 [==============================] - 0s 159ms/step - loss: 0.0631 - accuracy: 1.0000 - val_loss: 0.5283 - val_accuracy: 0.7143\n"
          ]
        }
      ],
      "source": [
        "# Train the CNN model\n",
        "cnn_history = cnn_model.fit(X_train, y_train, epochs=10, validation_data=(X_test, y_test))\n"
      ]
    },
    {
      "cell_type": "code",
      "execution_count": 6,
      "metadata": {
        "colab": {
          "base_uri": "https://localhost:8080/"
        },
        "id": "RVfq_Sa4rnza",
        "outputId": "d6e695cf-66fd-459f-8a0d-5893f818a289"
      },
      "outputs": [
        {
          "name": "stdout",
          "output_type": "stream",
          "text": [
            "1/1 [==============================] - 0s 59ms/step - loss: 0.5283 - accuracy: 0.7143\n",
            "Test loss: 0.5283328890800476\n",
            "Test accuracy: 0.7142857313156128\n"
          ]
        }
      ],
      "source": [
        "# Evaluate the model\n",
        "cnn_scores = cnn_model.evaluate(X_test, y_test)\n",
        "\n",
        "print('Test loss:', cnn_scores[0])\n",
        "print('Test accuracy:', cnn_scores[1])\n"
      ]
    },
    {
      "cell_type": "code",
      "execution_count": 7,
      "metadata": {
        "colab": {
          "base_uri": "https://localhost:8080/"
        },
        "id": "WtvscSxhrojS",
        "outputId": "b3fb3f08-b73d-4a31-98dc-a14189ad8fe8"
      },
      "outputs": [
        {
          "name": "stdout",
          "output_type": "stream",
          "text": [
            "1/1 [==============================] - 0s 474ms/step\n",
            "Confusion Matrix:\n",
            " [[4 0]\n",
            " [2 1]]\n",
            "Cohen's Kappa: 0.36363636363636376\n"
          ]
        }
      ],
      "source": [
        "from sklearn.metrics import confusion_matrix, cohen_kappa_score\n",
        "\n",
        "# Make predictions\n",
        "predictions = cnn_model.predict(X_test)\n",
        "# Convert predictions classes from one hot vectors to labels\n",
        "y_pred = np.argmax(predictions, axis=1)\n",
        "y_true = np.argmax(y_test, axis=1)\n",
        "\n",
        "# Confusion matrix\n",
        "conf_matrix = confusion_matrix(y_true, y_pred)\n",
        "\n",
        "# Cohen's kappa\n",
        "kappa_score = cohen_kappa_score(y_true, y_pred)\n",
        "\n",
        "print('Confusion Matrix:\\n', conf_matrix)\n",
        "print('Cohen\\'s Kappa:', kappa_score)\n"
      ]
    }
  ],
  "metadata": {
    "colab": {
      "provenance": []
    },
    "kernelspec": {
      "display_name": "Python 3",
      "name": "python3"
    },
    "language_info": {
      "name": "python"
    }
  },
  "nbformat": 4,
  "nbformat_minor": 0
}
